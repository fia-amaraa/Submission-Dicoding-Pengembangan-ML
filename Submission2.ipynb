{
  "nbformat": 4,
  "nbformat_minor": 0,
  "metadata": {
    "colab": {
      "name": "Submission2.ipynb",
      "provenance": [],
      "collapsed_sections": []
    },
    "kernelspec": {
      "name": "python3",
      "display_name": "Python 3"
    },
    "language_info": {
      "name": "python"
    }
  },
  "cells": [
    {
      "cell_type": "code",
      "metadata": {
        "colab": {
          "base_uri": "https://localhost:8080/"
        },
        "id": "Bc_gfMvke8IL",
        "outputId": "2997ef64-444b-49c7-8f10-297fd27d01d4"
      },
      "source": [
        "# Mount Drive\n",
        "from google.colab import drive\n",
        "drive.mount('/content/drive')"
      ],
      "execution_count": null,
      "outputs": [
        {
          "output_type": "stream",
          "text": [
            "Drive already mounted at /content/drive; to attempt to forcibly remount, call drive.mount(\"/content/drive\", force_remount=True).\n"
          ],
          "name": "stdout"
        }
      ]
    },
    {
      "cell_type": "code",
      "metadata": {
        "id": "c0Pp1o3we_g2"
      },
      "source": [
        "# Import library yang dibutuhkan\n",
        "import numpy as np\n",
        "import pandas as pd\n",
        "from keras.layers import Dense, LSTM\n",
        "import matplotlib.pyplot as plt\n",
        "import tensorflow as tf"
      ],
      "execution_count": null,
      "outputs": []
    },
    {
      "cell_type": "code",
      "metadata": {
        "id": "ErFAEoOGfe46"
      },
      "source": [
        "# Membaca dan merubah dataset menjadi sebuah dataframe\n",
        "df = pd.read_csv(\"/content/drive/MyDrive/Colab Notebooks/weather_data_kolkata_2015_2020.csv\")"
      ],
      "execution_count": null,
      "outputs": []
    },
    {
      "cell_type": "code",
      "metadata": {
        "colab": {
          "base_uri": "https://localhost:8080/",
          "height": 204
        },
        "id": "0VaXajaNfk8r",
        "outputId": "71f91055-6cb2-4c1d-e997-562bd6270f86"
      },
      "source": [
        "# Menampilkan 5 dataframe teratas\n",
        "df.head()"
      ],
      "execution_count": null,
      "outputs": [
        {
          "output_type": "execute_result",
          "data": {
            "text/html": [
              "<div>\n",
              "<style scoped>\n",
              "    .dataframe tbody tr th:only-of-type {\n",
              "        vertical-align: middle;\n",
              "    }\n",
              "\n",
              "    .dataframe tbody tr th {\n",
              "        vertical-align: top;\n",
              "    }\n",
              "\n",
              "    .dataframe thead th {\n",
              "        text-align: right;\n",
              "    }\n",
              "</style>\n",
              "<table border=\"1\" class=\"dataframe\">\n",
              "  <thead>\n",
              "    <tr style=\"text-align: right;\">\n",
              "      <th></th>\n",
              "      <th>DATETIME</th>\n",
              "      <th>TEMPERATURE</th>\n",
              "      <th>HUMIDITY</th>\n",
              "    </tr>\n",
              "  </thead>\n",
              "  <tbody>\n",
              "    <tr>\n",
              "      <th>0</th>\n",
              "      <td>2015-01-01 00:00:00</td>\n",
              "      <td>19.0</td>\n",
              "      <td>75.0</td>\n",
              "    </tr>\n",
              "    <tr>\n",
              "      <th>1</th>\n",
              "      <td>2015-01-01 01:00:00</td>\n",
              "      <td>19.0</td>\n",
              "      <td>77.0</td>\n",
              "    </tr>\n",
              "    <tr>\n",
              "      <th>2</th>\n",
              "      <td>2015-01-01 02:00:00</td>\n",
              "      <td>19.0</td>\n",
              "      <td>78.0</td>\n",
              "    </tr>\n",
              "    <tr>\n",
              "      <th>3</th>\n",
              "      <td>2015-01-01 03:00:00</td>\n",
              "      <td>19.0</td>\n",
              "      <td>80.0</td>\n",
              "    </tr>\n",
              "    <tr>\n",
              "      <th>4</th>\n",
              "      <td>2015-01-01 04:00:00</td>\n",
              "      <td>19.0</td>\n",
              "      <td>81.0</td>\n",
              "    </tr>\n",
              "  </tbody>\n",
              "</table>\n",
              "</div>"
            ],
            "text/plain": [
              "              DATETIME  TEMPERATURE  HUMIDITY\n",
              "0  2015-01-01 00:00:00         19.0      75.0\n",
              "1  2015-01-01 01:00:00         19.0      77.0\n",
              "2  2015-01-01 02:00:00         19.0      78.0\n",
              "3  2015-01-01 03:00:00         19.0      80.0\n",
              "4  2015-01-01 04:00:00         19.0      81.0"
            ]
          },
          "metadata": {
            "tags": []
          },
          "execution_count": 5
        }
      ]
    },
    {
      "cell_type": "code",
      "metadata": {
        "colab": {
          "base_uri": "https://localhost:8080/"
        },
        "id": "OFUnqFkHfsBT",
        "outputId": "bad0b5f7-337e-433b-d921-e69625ede073"
      },
      "source": [
        "# Menampilkan dataframe terakhir\n",
        "df.tail"
      ],
      "execution_count": null,
      "outputs": [
        {
          "output_type": "execute_result",
          "data": {
            "text/plain": [
              "<bound method NDFrame.tail of                   DATETIME  TEMPERATURE  HUMIDITY\n",
              "0      2015-01-01 00:00:00         19.0      75.0\n",
              "1      2015-01-01 01:00:00         19.0      77.0\n",
              "2      2015-01-01 02:00:00         19.0      78.0\n",
              "3      2015-01-01 03:00:00         19.0      80.0\n",
              "4      2015-01-01 04:00:00         19.0      81.0\n",
              "...                    ...          ...       ...\n",
              "52603  2020-12-31 19:00:00         25.0      36.0\n",
              "52604  2020-12-31 20:00:00         24.0      37.0\n",
              "52605  2020-12-31 21:00:00         23.0      38.0\n",
              "52606  2020-12-31 22:00:00         22.0      39.0\n",
              "52607  2020-12-31 23:00:00         21.0      40.0\n",
              "\n",
              "[52608 rows x 3 columns]>"
            ]
          },
          "metadata": {
            "tags": []
          },
          "execution_count": 6
        }
      ]
    },
    {
      "cell_type": "code",
      "metadata": {
        "colab": {
          "base_uri": "https://localhost:8080/"
        },
        "id": "ajQWiVZ0fuh6",
        "outputId": "506dd10c-7c95-4ace-de4a-f99b72c2c3ee"
      },
      "source": [
        "# Cek apakah dataset terdapat nilai yang kosong\n",
        "df.isnull().sum()"
      ],
      "execution_count": null,
      "outputs": [
        {
          "output_type": "execute_result",
          "data": {
            "text/plain": [
              "DATETIME       0\n",
              "TEMPERATURE    0\n",
              "HUMIDITY       0\n",
              "dtype: int64"
            ]
          },
          "metadata": {
            "tags": []
          },
          "execution_count": 7
        }
      ]
    },
    {
      "cell_type": "code",
      "metadata": {
        "colab": {
          "base_uri": "https://localhost:8080/",
          "height": 341
        },
        "id": "Iqh6tcyVgJ_S",
        "outputId": "43271d6d-ba97-4316-a2fb-530ec853c3a9"
      },
      "source": [
        "# Membuat plot dari data\n",
        "dates = df['DATETIME'].values\n",
        "temp  = df['TEMPERATURE'].values\n",
        "\n",
        "plt.figure(figsize=(15,5))\n",
        "plt.plot(dates, temp)\n",
        "plt.title('Temperature',\n",
        "          fontsize=20);"
      ],
      "execution_count": null,
      "outputs": [
        {
          "output_type": "display_data",
          "data": {
            "image/png": "[encoded data removed]",
            "text/plain": [
              "<Figure size 1080x360 with 1 Axes>"
            ]
          },
          "metadata": {
            "tags": [],
            "needs_background": "light"
          }
        }
      ]
    },
    {
      "cell_type": "code",
      "metadata": {
        "colab": {
          "base_uri": "https://localhost:8080/"
        },
        "id": "1ysNfK4vgWnU",
        "outputId": "be23ff0a-9723-49b7-a882-f13248ff473d"
      },
      "source": [
        "# Membagi data untuk training dan data untuk testing dengan Validation set sebesar 20% dari total dataset\n",
        "from sklearn.model_selection import train_test_split\n",
        "x_train, x_test, y_train, y_test = train_test_split(temp, dates, test_size = 0.2, shuffle = False )\n",
        "\n",
        "print('Total Data Train: ',len(x_train))\n",
        "print('Total Data Test: ',len(x_test))"
      ],
      "execution_count": null,
      "outputs": [
        {
          "output_type": "stream",
          "text": [
            "Total Data Train:  42086\n",
            "Total Data Test:  10522\n"
          ],
          "name": "stdout"
        }
      ]
    },
    {
      "cell_type": "code",
      "metadata": {
        "id": "y6qx_mbwjoHx"
      },
      "source": [
        "def windowed_dataset(series, window_size, batch_size, shuffle_buffer):\n",
        "    series = tf.expand_dims(series, axis=-1)\n",
        "    ds = tf.data.Dataset.from_tensor_slices(series)\n",
        "    ds = ds.window(window_size + 1, shift=1, drop_remainder=True)\n",
        "    ds = ds.flat_map(lambda w: w.batch(window_size + 1))\n",
        "    ds = ds.shuffle(shuffle_buffer)\n",
        "    ds = ds.map(lambda w: (w[:-1], w[-1:]))\n",
        "    return ds.batch(batch_size).prefetch(1)"
      ],
      "execution_count": null,
      "outputs": []
    },
    {
      "cell_type": "code",
      "metadata": {
        "id": "NVoJ_24bk70A"
      },
      "source": [
        "# Membuat model dengan menggunakan model sequential dan LSTM\n",
        "\n",
        "tf.keras.backend.set_floatx('float32')\n",
        "\n",
        "train_set = windowed_dataset(x_train, window_size=60, batch_size=200, shuffle_buffer=1000)\n",
        "test_set = windowed_dataset(x_test, window_size=64, batch_size=200, shuffle_buffer=1000)\n",
        "\n",
        "model = tf.keras.models.Sequential([\n",
        "  tf.keras.layers.LSTM(60, return_sequences=True),\n",
        "  tf.keras.layers.LSTM(60),\n",
        "  tf.keras.layers.Dense(30, activation=\"relu\"),\n",
        "  tf.keras.layers.Dense(10, activation=\"relu\"),\n",
        "  tf.keras.layers.Dense(1),\n",
        "])"
      ],
      "execution_count": null,
      "outputs": []
    },
    {
      "cell_type": "code",
      "metadata": {
        "colab": {
          "base_uri": "https://localhost:8080/"
        },
        "id": "GxxNd-HhgKNs",
        "outputId": "1da458db-c204-48db-c065-86e702d0cbc7"
      },
      "source": [
        "# Mencari nilai MAE dari model < 10% skala data\n",
        "MAE = (df['TEMPERATURE'].max() - df['TEMPERATURE'].min()) * 0.1\n",
        "print(MAE)"
      ],
      "execution_count": null,
      "outputs": [
        {
          "output_type": "stream",
          "text": [
            "3.4000000000000004\n"
          ],
          "name": "stdout"
        }
      ]
    },
    {
      "cell_type": "code",
      "metadata": {
        "id": "7zkV8C-jmUHp"
      },
      "source": [
        "# Penggunaan parameter learning rate dan momentum pada optimizer\n",
        "optimizer = tf.keras.optimizers.SGD(learning_rate=1.0000e-04, momentum=0.9)\n",
        "model.compile(loss=tf.keras.losses.Huber(),\n",
        "              optimizer=optimizer,\n",
        "              metrics=[\"mae\"])"
      ],
      "execution_count": null,
      "outputs": []
    },
    {
      "cell_type": "code",
      "metadata": {
        "id": "7H63_-OClDmV"
      },
      "source": [
        "# Penggunaan callbacks\n",
        "class Callback(tf.keras.callbacks.Callback):\n",
        "  def on_epoch_end(self, epoch, logs={}):\n",
        "    if(logs.get('mae') < 3.4000000000000004 and logs.get('val_mae') < 3.4000000000000004):\n",
        "      print(\"Training dihentikan karena MAE dari model < 10% skala data\")\n",
        "      self.model.stop_training = True\n",
        "\n",
        "callbacks = Callback()"
      ],
      "execution_count": null,
      "outputs": []
    },
    {
      "cell_type": "code",
      "metadata": {
        "colab": {
          "base_uri": "https://localhost:8080/"
        },
        "id": "bdjwtuCdlomd",
        "outputId": "aa1f3de2-fcca-48d3-c4b8-caecd2137a17"
      },
      "source": [
        "# Pelatihan model\n",
        "history = model.fit(train_set,epochs=30, validation_data = test_set, batch_size=128, shuffle=False, callbacks=[callbacks])"
      ],
      "execution_count": null,
      "outputs": [
        {
          "output_type": "stream",
          "text": [
            "Epoch 1/30\n",
            "211/211 [==============================] - 52s 223ms/step - loss: 25.5669 - mae: 26.0669 - val_loss: 21.3385 - val_mae: 21.8385\n",
            "Epoch 2/30\n",
            "211/211 [==============================] - 46s 217ms/step - loss: 8.1374 - mae: 8.6223 - val_loss: 3.8278 - val_mae: 4.3082\n",
            "Epoch 3/30\n",
            "211/211 [==============================] - 48s 225ms/step - loss: 4.0805 - mae: 4.5563 - val_loss: 3.6309 - val_mae: 4.1118\n",
            "Epoch 4/30\n",
            "211/211 [==============================] - 46s 219ms/step - loss: 3.9967 - mae: 4.4724 - val_loss: 3.6162 - val_mae: 4.0960\n",
            "Epoch 5/30\n",
            "211/211 [==============================] - 47s 220ms/step - loss: 3.9075 - mae: 4.3836 - val_loss: 3.4491 - val_mae: 3.9281\n",
            "Epoch 6/30\n",
            "211/211 [==============================] - 47s 221ms/step - loss: 3.8402 - mae: 4.3162 - val_loss: 3.4113 - val_mae: 3.8898\n",
            "Epoch 7/30\n",
            "211/211 [==============================] - 47s 222ms/step - loss: 3.7797 - mae: 4.2548 - val_loss: 3.3453 - val_mae: 3.8229\n",
            "Epoch 8/30\n",
            "211/211 [==============================] - 47s 221ms/step - loss: 3.6911 - mae: 4.1670 - val_loss: 3.2350 - val_mae: 3.7112\n",
            "Epoch 9/30\n",
            "211/211 [==============================] - 47s 221ms/step - loss: 3.6062 - mae: 4.0810 - val_loss: 3.1288 - val_mae: 3.6034\n",
            "Epoch 10/30\n",
            "211/211 [==============================] - 47s 221ms/step - loss: 3.4924 - mae: 3.9664 - val_loss: 2.9996 - val_mae: 3.4723\n",
            "Epoch 11/30\n",
            "211/211 [==============================] - 47s 220ms/step - loss: 3.3806 - mae: 3.8535 - val_loss: 2.8985 - val_mae: 3.3699\n",
            "Epoch 12/30\n",
            "211/211 [==============================] - 47s 222ms/step - loss: 3.2495 - mae: 3.7206 - val_loss: 2.7352 - val_mae: 3.2049\n",
            "Epoch 13/30\n",
            "211/211 [==============================] - 47s 224ms/step - loss: 3.1124 - mae: 3.5837 - val_loss: 2.6230 - val_mae: 3.0914\n",
            "Epoch 14/30\n",
            "211/211 [==============================] - 48s 226ms/step - loss: 2.9496 - mae: 3.4195 - val_loss: 2.4724 - val_mae: 2.9373\n",
            "Epoch 15/30\n",
            "211/211 [==============================] - 48s 225ms/step - loss: 2.9327 - mae: 3.4019 - val_loss: 2.4227 - val_mae: 2.8871\n",
            "Epoch 16/30\n",
            "211/211 [==============================] - 48s 225ms/step - loss: 2.7670 - mae: 3.2342 - val_loss: 2.2157 - val_mae: 2.6758\n",
            "Training dihentikan karena MAE dari model < 10% skala data\n"
          ],
          "name": "stdout"
        }
      ]
    },
    {
      "cell_type": "code",
      "metadata": {
        "colab": {
          "base_uri": "https://localhost:8080/",
          "height": 295
        },
        "id": "UTxi5rthnx3m",
        "outputId": "0bb7dc0b-386c-4ac1-ba06-68948254e3db"
      },
      "source": [
        "# Visualisasi plot loss saat training dan validation\n",
        "import matplotlib.pyplot as plt\n",
        "plt.plot(history.history['loss'])\n",
        "plt.plot(history.history['val_loss'])\n",
        "plt.title('Plot Loss')\n",
        "plt.ylabel('Loss')\n",
        "plt.xlabel('Epoch')\n",
        "plt.legend(['Train', 'Test'], loc='upper right')\n",
        "plt.show()"
      ],
      "execution_count": null,
      "outputs": [
        {
          "output_type": "display_data",
          "data": {
            "image/png": "[encoded data removed]",
            "text/plain": [
              "<Figure size 432x288 with 1 Axes>"
            ]
          },
          "metadata": {
            "tags": [],
            "needs_background": "light"
          }
        }
      ]
    },
    {
      "cell_type": "code",
      "metadata": {
        "colab": {
          "base_uri": "https://localhost:8080/",
          "height": 295
        },
        "id": "T24tdjJwpSKW",
        "outputId": "a7bb82c6-9a6e-4779-c545-e650b559c2e3"
      },
      "source": [
        "# Visualisasi plot MAE saat training dan validation\n",
        "import matplotlib.pyplot as plt\n",
        "plt.plot(history.history['mae'])\n",
        "plt.plot(history.history['val_mae'])\n",
        "plt.title('Plot MAE')\n",
        "plt.ylabel('MAE')\n",
        "plt.xlabel('Epoch')\n",
        "plt.legend(['Train', 'Test'], loc='upper right')\n",
        "plt.show()"
      ],
      "execution_count": null,
      "outputs": [
        {
          "output_type": "display_data",
          "data": {
            "image/png": "[encoded data removed]",
            "text/plain": [
              "<Figure size 432x288 with 1 Axes>"
            ]
          },
          "metadata": {
            "tags": [],
            "needs_background": "light"
          }
        }
      ]
    },
    {
      "cell_type": "code",
      "metadata": {
        "id": "V6udh9fsypC0"
      },
      "source": [
        "Sumber dataset: https://www.kaggle.com/sumandey/temperature-and-humidity-of-kolkata-from-20152020"
      ],
      "execution_count": null,
      "outputs": []
    },
    {
      "cell_type": "code",
      "metadata": {
        "id": "FFyje7M2XFcS"
      },
      "source": [
        ""
      ],
      "execution_count": null,
      "outputs": []
    }
  ]
}